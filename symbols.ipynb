{
 "cells": [
  {
   "cell_type": "markdown",
   "metadata": {},
   "source": [
    "# Symbols\n",
    "\n",
    "Create a list of the companies symbols. Import 'pandas' package to be able to write the list as a csv or text file. "
   ]
  },
  {
   "cell_type": "code",
   "execution_count": 1,
   "metadata": {},
   "outputs": [],
   "source": [
    "import pandas as pd"
   ]
  },
  {
   "cell_type": "code",
   "execution_count": 2,
   "metadata": {},
   "outputs": [],
   "source": [
    "symbols = ['XOM', 'OXY', 'CVX', 'BRK-A', 'FBC', 'PANW', 'CUB', 'EPAM', 'TTD', 'MTCH',\\\n",
    "           'SIEGY', 'ISRG', 'AMD', 'GOOG', 'GOOGL', 'IBM', 'MSFT', 'AAPL', 'TSLA',\\\n",
    "           'AMZN', 'ROK', 'CGNX', 'IRBT', 'KIGRY', 'CGC', 'ACB', 'ABB', 'NVS', 'CRM',\\\n",
    "           'ORCL', 'FIVN', 'JPM', 'USB', 'AEP', 'SCHW', 'UPS', 'UBER', 'LYFT', 'NKE', 'BA',\\\n",
    "           'CSL', 'MPC', 'DK', 'RDS.B', 'RDS-B', 'TOT', 'VLO', 'EC', 'CVI', 'IAC', 'ZBRA',\\\n",
    "           'DELL', 'ADBE', 'HD', 'LOW', 'NYT', 'LLY', 'MRK', 'PFE', 'ZTS', 'JNJ', 'ABBV',\\\n",
    "           'MCD', 'KO', 'SBUX', 'NFLX', 'DIS', 'OPRA', 'GE', 'TMUS', 'GRMN', 'NEM',\\\n",
    "          'GGB', 'FB', 'CHWRF', 'YASKY', 'HAL', 'HEI', 'ULTA', 'GLPI', 'EHC', 'EWBC',\\\n",
    "          'MIDD', 'CR', 'KMPR', 'FLO', 'OLLI', 'TKR', 'MCY', 'CC', 'ENPH', 'KNSL', 'WD',\\\n",
    "          'CAKE', 'MTX', 'TMP', 'RAVN', 'TILE', 'CPE', 'HTBK', 'MYE', 'TPB', 'CCNE',\\\n",
    "          'LAWS', 'FMNB', 'WTBA', 'RYI', 'DFIN', 'XRX', 'GT', 'PGR', 'ALL', 'CINF',\\\n",
    "           'HOFT', 'CCB', 'ESQ', 'RVSB', 'FAF', 'PYPL'  \n",
    "        ]"
   ]
  },
  {
   "cell_type": "markdown",
   "metadata": {},
   "source": [
    "# Duplicates  \n",
    "\n",
    "The code below checks the symbol list if there are any duplicates included by accident. "
   ]
  },
  {
   "cell_type": "code",
   "execution_count": 3,
   "metadata": {},
   "outputs": [],
   "source": [
    "# check for duplicates\n",
    "\n",
    "inlist = {}\n",
    "duplicate = []\n",
    "\n",
    "for x in symbols:\n",
    "    if x not in inlist:\n",
    "        inlist[x] = 1\n",
    "    else:\n",
    "        if inlist[x] == 1:\n",
    "            duplicate.append(x)\n",
    "        inlist[x] += 1"
   ]
  },
  {
   "cell_type": "code",
   "execution_count": 4,
   "metadata": {},
   "outputs": [
    {
     "data": {
      "text/plain": [
       "[]"
      ]
     },
     "execution_count": 4,
     "metadata": {},
     "output_type": "execute_result"
    }
   ],
   "source": [
    "duplicate"
   ]
  },
  {
   "cell_type": "code",
   "execution_count": 5,
   "metadata": {},
   "outputs": [
    {
     "data": {
      "text/plain": [
       "{'XOM': 1,\n",
       " 'OXY': 1,\n",
       " 'CVX': 1,\n",
       " 'BRK-A': 1,\n",
       " 'FBC': 1,\n",
       " 'PANW': 1,\n",
       " 'CUB': 1,\n",
       " 'EPAM': 1,\n",
       " 'TTD': 1,\n",
       " 'MTCH': 1,\n",
       " 'SIEGY': 1,\n",
       " 'ISRG': 1,\n",
       " 'AMD': 1,\n",
       " 'GOOG': 1,\n",
       " 'GOOGL': 1,\n",
       " 'IBM': 1,\n",
       " 'MSFT': 1,\n",
       " 'AAPL': 1,\n",
       " 'TSLA': 1,\n",
       " 'AMZN': 1,\n",
       " 'ROK': 1,\n",
       " 'CGNX': 1,\n",
       " 'IRBT': 1,\n",
       " 'KIGRY': 1,\n",
       " 'CGC': 1,\n",
       " 'ACB': 1,\n",
       " 'ABB': 1,\n",
       " 'NVS': 1,\n",
       " 'CRM': 1,\n",
       " 'ORCL': 1,\n",
       " 'FIVN': 1,\n",
       " 'JPM': 1,\n",
       " 'USB': 1,\n",
       " 'AEP': 1,\n",
       " 'SCHW': 1,\n",
       " 'UPS': 1,\n",
       " 'UBER': 1,\n",
       " 'LYFT': 1,\n",
       " 'NKE': 1,\n",
       " 'BA': 1,\n",
       " 'CSL': 1,\n",
       " 'MPC': 1,\n",
       " 'DK': 1,\n",
       " 'RDS.B': 1,\n",
       " 'RDS-B': 1,\n",
       " 'TOT': 1,\n",
       " 'VLO': 1,\n",
       " 'EC': 1,\n",
       " 'CVI': 1,\n",
       " 'IAC': 1,\n",
       " 'ZBRA': 1,\n",
       " 'DELL': 1,\n",
       " 'ADBE': 1,\n",
       " 'HD': 1,\n",
       " 'LOW': 1,\n",
       " 'NYT': 1,\n",
       " 'LLY': 1,\n",
       " 'MRK': 1,\n",
       " 'PFE': 1,\n",
       " 'ZTS': 1,\n",
       " 'JNJ': 1,\n",
       " 'ABBV': 1,\n",
       " 'MCD': 1,\n",
       " 'KO': 1,\n",
       " 'SBUX': 1,\n",
       " 'NFLX': 1,\n",
       " 'DIS': 1,\n",
       " 'OPRA': 1,\n",
       " 'GE': 1,\n",
       " 'TMUS': 1,\n",
       " 'GRMN': 1,\n",
       " 'NEM': 1,\n",
       " 'GGB': 1,\n",
       " 'FB': 1,\n",
       " 'CHWRF': 1,\n",
       " 'YASKY': 1,\n",
       " 'HAL': 1,\n",
       " 'HEI': 1,\n",
       " 'ULTA': 1,\n",
       " 'GLPI': 1,\n",
       " 'EHC': 1,\n",
       " 'EWBC': 1,\n",
       " 'MIDD': 1,\n",
       " 'CR': 1,\n",
       " 'KMPR': 1,\n",
       " 'FLO': 1,\n",
       " 'OLLI': 1,\n",
       " 'TKR': 1,\n",
       " 'MCY': 1,\n",
       " 'CC': 1,\n",
       " 'ENPH': 1,\n",
       " 'KNSL': 1,\n",
       " 'WD': 1,\n",
       " 'CAKE': 1,\n",
       " 'MTX': 1,\n",
       " 'TMP': 1,\n",
       " 'RAVN': 1,\n",
       " 'TILE': 1,\n",
       " 'CPE': 1,\n",
       " 'HTBK': 1,\n",
       " 'MYE': 1,\n",
       " 'TPB': 1,\n",
       " 'CCNE': 1,\n",
       " 'LAWS': 1,\n",
       " 'FMNB': 1,\n",
       " 'WTBA': 1,\n",
       " 'RYI': 1,\n",
       " 'DFIN': 1,\n",
       " 'XRX': 1,\n",
       " 'GT': 1,\n",
       " 'PGR': 1,\n",
       " 'ALL': 1,\n",
       " 'CINF': 1,\n",
       " 'HOFT': 1,\n",
       " 'CCB': 1,\n",
       " 'ESQ': 1,\n",
       " 'RVSB': 1,\n",
       " 'FAF': 1,\n",
       " 'PYPL': 1}"
      ]
     },
     "execution_count": 5,
     "metadata": {},
     "output_type": "execute_result"
    }
   ],
   "source": [
    "inlist"
   ]
  },
  {
   "cell_type": "markdown",
   "metadata": {},
   "source": [
    "# csv  \n",
    "\n",
    "Write symbols as a csv file to be used later."
   ]
  },
  {
   "cell_type": "code",
   "execution_count": 6,
   "metadata": {},
   "outputs": [],
   "source": [
    "# writing symbols as a csv file. \n",
    "\n",
    "df_symbols = []\n",
    "\n",
    "for z in symbols:\n",
    "    s = z\n",
    "    df_symbols.append(s)\n",
    "    #print(s)\n",
    "        \n",
    "df = pd.DataFrame(df_symbols)\n",
    "df.to_csv('df_symbols.csv', header=False, index=None)"
   ]
  },
  {
   "cell_type": "markdown",
   "metadata": {},
   "source": [
    "# text   \n",
    "\n",
    "Write symbols as a text file as well."
   ]
  },
  {
   "cell_type": "code",
   "execution_count": 7,
   "metadata": {},
   "outputs": [],
   "source": [
    "# Writing symbols as a text file. \n",
    "\n",
    "with open('symbols_file.txt', 'w') as f:\n",
    "    for item in symbols:\n",
    "        f.write(\"%s\\n\" % item)"
   ]
  },
  {
   "cell_type": "code",
   "execution_count": null,
   "metadata": {},
   "outputs": [],
   "source": []
  }
 ],
 "metadata": {
  "kernelspec": {
   "display_name": "Python 3",
   "language": "python",
   "name": "python3"
  },
  "language_info": {
   "codemirror_mode": {
    "name": "ipython",
    "version": 3
   },
   "file_extension": ".py",
   "mimetype": "text/x-python",
   "name": "python",
   "nbconvert_exporter": "python",
   "pygments_lexer": "ipython3",
   "version": "3.7.3"
  }
 },
 "nbformat": 4,
 "nbformat_minor": 2
}
